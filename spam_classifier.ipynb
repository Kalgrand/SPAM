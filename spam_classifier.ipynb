{
  "nbformat": 4,
  "nbformat_minor": 0,
  "metadata": {
    "colab": {
      "name": "spam_classifier.ipynb",
      "provenance": [],
      "collapsed_sections": [],
      "authorship_tag": "ABX9TyNF76LQmdg4LfYPVQiSowIc",
      "include_colab_link": true
    },
    "kernelspec": {
      "name": "python3",
      "display_name": "Python 3"
    },
    "language_info": {
      "name": "python"
    }
  },
  "cells": [
    {
      "cell_type": "markdown",
      "metadata": {
        "id": "view-in-github",
        "colab_type": "text"
      },
      "source": [
        "<a href=\"https://colab.research.google.com/github/Kalgrand/SPAM/blob/main/spam_classifier.ipynb\" target=\"_parent\"><img src=\"https://colab.research.google.com/assets/colab-badge.svg\" alt=\"Open In Colab\"/></a>"
      ]
    },
    {
      "cell_type": "code",
      "metadata": {
        "id": "1D5pcQKMfLIr",
        "colab": {
          "base_uri": "https://localhost:8080/",
          "height": 1000
        },
        "outputId": "000c0640-83d2-43ed-ccc2-7af395361f76"
      },
      "source": [
        "#klasyfikator spamu - nauka\n",
        "\n",
        "import numpy as np\n",
        "import pandas as pd\n",
        "import matplotlib.pyplot as plt\n",
        "import seaborn as sns\n",
        "%matplotlib inline\n",
        "import warnings\n",
        "warnings.filterwarnings(\"ignore\")\n",
        "import pickle\n",
        "import tensorflow as tf\n",
        "import wordcloud\n",
        "\n",
        "plik = pd.read_csv(\"spam.csv\",encoding='latin-1')\n",
        "plik.head()\n",
        "\n",
        "data = plik.copy()\n",
        "data.drop(columns=[\"Unnamed: 2\", \"Unnamed: 3\", \"Unnamed: 4\"], inplace=True)\n",
        "\n",
        "# zmiana nazwy kolumn\n",
        "data = data.rename(columns={\"v1\":\"label\", \"v2\":\"text\"})\n",
        "data.head()\n",
        "\n",
        "# zliczanie klasy\n",
        "class_count_0, class_count_1 = data.label.value_counts()\n",
        "\n",
        "# podzielenie na spam i ham\n",
        "class_0 = data[data['label'] == 'ham']\n",
        "class_1 = data[data['label'] == 'spam']\n",
        "\n",
        "print('Ilość początkowa:')\n",
        "print('class 0:', class_0.shape)\n",
        "print('class 1:', class_1.shape, \"\\n\")\n",
        "sns.countplot(data['label'])\n",
        "plt.show()\n",
        "#/////////////////////////\n",
        "\n",
        "# random undersampling\n",
        "class_0_under = class_0.sample(class_count_1)\n",
        "test_under = pd.concat([class_0_under, class_1], axis=0)\n",
        "print('Random undersampling:')\n",
        "print(test_under['label'].value_counts(), \"\\n\")\n",
        "\n",
        "# wykres\n",
        "sns.countplot(test_under['label'])\n",
        "plt.show()\n",
        "\n",
        "#/////////////////////////\n",
        "\n",
        "# random oversampling\n",
        "class_1_over = class_1.sample(class_count_0, replace=True)\n",
        "test_over = pd.concat([class_1_over, class_0], axis=0)\n",
        "print('Random oversampling:')\n",
        "print(test_over['label'].value_counts(), \"\\n\")\n",
        "\n",
        "# wykres\n",
        "sns.countplot(test_over['label'])\n",
        "plt.show()\n",
        "\n",
        "data['label'] = data['label'].map({'spam':1, 'ham':0})"
      ],
      "execution_count": 163,
      "outputs": [
        {
          "output_type": "stream",
          "text": [
            "Ilość początkowa:\n",
            "class 0: (4825, 2)\n",
            "class 1: (747, 2) \n",
            "\n"
          ],
          "name": "stdout"
        },
        {
          "output_type": "display_data",
          "data": {
            "image/png": "[encoded data removed]",
            "text/plain": [
              "<Figure size 432x288 with 1 Axes>"
            ]
          },
          "metadata": {
            "tags": [],
            "needs_background": "light"
          }
        },
        {
          "output_type": "stream",
          "text": [
            "Random undersampling:\n",
            "spam    747\n",
            "ham     747\n",
            "Name: label, dtype: int64 \n",
            "\n"
          ],
          "name": "stdout"
        },
        {
          "output_type": "display_data",
          "data": {
            "image/png": "[encoded data removed]",
            "text/plain": [
              "<Figure size 432x288 with 1 Axes>"
            ]
          },
          "metadata": {
            "tags": [],
            "needs_background": "light"
          }
        },
        {
          "output_type": "stream",
          "text": [
            "Random oversampling:\n",
            "spam    4825\n",
            "ham     4825\n",
            "Name: label, dtype: int64 \n",
            "\n"
          ],
          "name": "stdout"
        },
        {
          "output_type": "display_data",
          "data": {
            "image/png": "[encoded data removed]",
            "text/plain": [
              "<Figure size 432x288 with 1 Axes>"
            ]
          },
          "metadata": {
            "tags": [],
            "needs_background": "light"
          }
        }
      ]
    },
    {
      "cell_type": "code",
      "metadata": {
        "colab": {
          "base_uri": "https://localhost:8080/"
        },
        "id": "Idhvo4bbzykt",
        "outputId": "4ceaa8a0-7ba4-4ffd-93e8-24ac167d9e38"
      },
      "source": [
        "# wstępne przetwarzanie tekstu\n",
        "from tensorflow.keras.preprocessing.sequence import pad_sequences\n",
        "from tensorflow.keras.preprocessing.text import Tokenizer\n",
        "\n",
        "# budowanie modelu\n",
        "from tensorflow.keras.models import Sequential\n",
        "from tensorflow.keras.layers import Dense\n",
        "from tensorflow.keras.layers import Flatten\n",
        "from tensorflow.keras.layers import Dropout\n",
        "from tensorflow.keras.layers import Embedding\n",
        "from tensorflow.keras.callbacks import EarlyStopping\n",
        "\n",
        "# dzielenie danych na train and test set\n",
        "from sklearn.model_selection import train_test_split\n",
        "\n",
        "x = data['text'].values\n",
        "y = data['label'].values\n",
        "x_train, x_test, y_train, y_test = train_test_split(x, y,\n",
        "                                                        test_size=0.30,\n",
        "                                                    random_state=42)\n",
        "\n",
        "# zdefiniowanie modelu\n",
        "model = Sequential()\n",
        "model.add(Embedding(vocab_size, 24, input_length=max_length))\n",
        "model.add(Flatten())\n",
        "model.add(Dense(500, activation='relu'))\n",
        "model.add(Dense(200, activation='relu'))\n",
        "model.add(Dropout(0.5))\n",
        "model.add(Dense(100, activation='relu'))\n",
        "model.add(Dense(1, activation='sigmoid'))\n",
        "\n",
        "# kompilacja modelu\n",
        "model.compile(optimizer='Adam', loss='binary_crossentropy', metrics=['accuracy'])\n",
        "\n",
        "# podsumowanie modelu\n",
        "print(model.summary())\n",
        "\n",
        "early_stop = EarlyStopping(monitor='val_loss', mode='min', verbose=1, patience=10)\n",
        "\n",
        "# dopasowanie modelu\n",
        "model.fit(x=padded_train,\n",
        "         y=y_train,\n",
        "         epochs=10,\n",
        "         validation_data=(padded_test, y_test), verbose=1,\n",
        "         callbacks=[early_stop]\n",
        "         )\n",
        "\n",
        "# ocena modelu\n",
        "loss, accuracy = model.evaluate(padded_test, y_test, verbose=0)\n",
        "print('Accuracy: %f' % (accuracy*100))"
      ],
      "execution_count": 165,
      "outputs": [
        {
          "output_type": "stream",
          "text": [
            "Model: \"sequential_24\"\n",
            "_________________________________________________________________\n",
            "Layer (type)                 Output Shape              Param #   \n",
            "=================================================================\n",
            "embedding_24 (Embedding)     (None, 8, 24)             177936    \n",
            "_________________________________________________________________\n",
            "flatten_24 (Flatten)         (None, 192)               0         \n",
            "_________________________________________________________________\n",
            "dense_96 (Dense)             (None, 500)               96500     \n",
            "_________________________________________________________________\n",
            "dense_97 (Dense)             (None, 200)               100200    \n",
            "_________________________________________________________________\n",
            "dropout_24 (Dropout)         (None, 200)               0         \n",
            "_________________________________________________________________\n",
            "dense_98 (Dense)             (None, 100)               20100     \n",
            "_________________________________________________________________\n",
            "dense_99 (Dense)             (None, 1)                 101       \n",
            "=================================================================\n",
            "Total params: 394,837\n",
            "Trainable params: 394,837\n",
            "Non-trainable params: 0\n",
            "_________________________________________________________________\n",
            "None\n",
            "Epoch 1/10\n",
            "122/122 [==============================] - 2s 10ms/step - loss: 0.2661 - accuracy: 0.8792 - val_loss: 0.1662 - val_accuracy: 0.9695\n",
            "Epoch 2/10\n",
            "122/122 [==============================] - 1s 9ms/step - loss: 0.0504 - accuracy: 0.9892 - val_loss: 0.0901 - val_accuracy: 0.9809\n",
            "Epoch 3/10\n",
            "122/122 [==============================] - 1s 9ms/step - loss: 0.0045 - accuracy: 0.9992 - val_loss: 0.1136 - val_accuracy: 0.9797\n",
            "Epoch 4/10\n",
            "122/122 [==============================] - 1s 9ms/step - loss: 5.3850e-04 - accuracy: 1.0000 - val_loss: 0.1301 - val_accuracy: 0.9803\n",
            "Epoch 5/10\n",
            "122/122 [==============================] - 1s 9ms/step - loss: 2.8484e-04 - accuracy: 1.0000 - val_loss: 0.1391 - val_accuracy: 0.9803\n",
            "Epoch 6/10\n",
            "122/122 [==============================] - 1s 9ms/step - loss: 2.8479e-04 - accuracy: 1.0000 - val_loss: 0.1465 - val_accuracy: 0.9815\n",
            "Epoch 7/10\n",
            "122/122 [==============================] - 1s 8ms/step - loss: 3.1514e-04 - accuracy: 1.0000 - val_loss: 0.1526 - val_accuracy: 0.9821\n",
            "Epoch 8/10\n",
            "122/122 [==============================] - 1s 9ms/step - loss: 1.9410e-04 - accuracy: 1.0000 - val_loss: 0.1580 - val_accuracy: 0.9815\n",
            "Epoch 9/10\n",
            "122/122 [==============================] - 1s 8ms/step - loss: 1.7232e-04 - accuracy: 1.0000 - val_loss: 0.1627 - val_accuracy: 0.9815\n",
            "Epoch 10/10\n",
            "122/122 [==============================] - 1s 8ms/step - loss: 6.3919e-05 - accuracy: 1.0000 - val_loss: 0.1666 - val_accuracy: 0.9809\n",
            "Accuracy: 98.086125\n"
          ],
          "name": "stdout"
        }
      ]
    },
    {
      "cell_type": "code",
      "metadata": {
        "colab": {
          "base_uri": "https://localhost:8080/",
          "height": 362
        },
        "id": "ovt-7RXh5-Hq",
        "outputId": "209ae329-9b99-4d9a-9141-210b30de4bf7"
      },
      "source": [
        "from sklearn.metrics import classification_report, confusion_matrix, accuracy_score\n",
        "from tensorflow.keras.preprocessing.text import Tokenizer\n",
        "\n",
        "# tablica pomyłek\n",
        "def plot_confusion_matrix(y_true, y_pred):\n",
        "    mtx = confusion_matrix(y_true, y_pred)\n",
        "    sns.heatmap(mtx, annot=True, fmt='d', linewidths=.5,  \n",
        "                cmap=\"Blues\", cbar=False)\n",
        "    plt.ylabel('True label')\n",
        "    plt.xlabel('Predicted label')\n",
        "\n",
        "plot_confusion_matrix(y_test, preds)\n",
        "\n",
        "# zapisanie modelu i tokenizera\n",
        "model.save(\"spam_model\")\n",
        "with open('spam_model/tokenizer.pkl', 'wb') as output:\n",
        "    pickle.dump(t, output, pickle.HIGHEST_PROTOCOL)\n",
        "\n",
        "# załadowanie modelu\n",
        "s_model = tf.keras.models.load_model(\"spam_model\")\n",
        "with open('spam_model/tokenizer.pkl', 'rb') as input:\n",
        "    tokener = pickle.load(input)\n",
        "\n",
        "# ocena modelu\n",
        "sms = [\"We know someone who you know that fancies you. Call 09058097218 to find out who. POBox 6, LS15HB \"]\n",
        "sms1 = [\"Even my brother is not like to speak with me. They treat me like aids patent.\"]\n",
        "sms_proc = tokener.texts_to_sequences(sms)\n",
        "sms_proc = pad_sequences(sms_proc, maxlen=max_length, padding='post')\n",
        "pred = (model.predict(sms_proc) > 0.5).astype(\"int32\").item()\n",
        "print(\"1 = SPAM , 0 = HAM \\n\")\n",
        "print(\"Wynik :\", pred, \"\\n\")"
      ],
      "execution_count": 166,
      "outputs": [
        {
          "output_type": "stream",
          "text": [
            "INFO:tensorflow:Assets written to: spam_model/assets\n",
            "1 = SPAM , 0 = HAM \n",
            "\n",
            "Wynik : 1 \n",
            "\n"
          ],
          "name": "stdout"
        },
        {
          "output_type": "display_data",
          "data": {
            "image/png": "[encoded data removed]",
            "text/plain": [
              "<Figure size 432x288 with 1 Axes>"
            ]
          },
          "metadata": {
            "tags": [],
            "needs_background": "light"
          }
        }
      ]
    }
  ]
}