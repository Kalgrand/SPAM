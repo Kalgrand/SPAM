{
  "nbformat": 4,
  "nbformat_minor": 0,
  "metadata": {
    "colab": {
      "name": "spam_classifier.ipynb",
      "provenance": [],
      "collapsed_sections": [],
      "authorship_tag": "ABX9TyMYOai4odFbxYGZ5kLL4awm",
      "include_colab_link": true
    },
    "kernelspec": {
      "name": "python3",
      "display_name": "Python 3"
    },
    "language_info": {
      "name": "python"
    }
  },
  "cells": [
    {
      "cell_type": "markdown",
      "metadata": {
        "id": "view-in-github",
        "colab_type": "text"
      },
      "source": [
        "<a href=\"https://colab.research.google.com/github/Kalgrand/SPAM/blob/main/spam_classifier.ipynb\" target=\"_parent\"><img src=\"https://colab.research.google.com/assets/colab-badge.svg\" alt=\"Open In Colab\"/></a>"
      ]
    },
    {
      "cell_type": "code",
      "metadata": {
        "id": "1D5pcQKMfLIr",
        "colab": {
          "base_uri": "https://localhost:8080/",
          "height": 741
        },
        "outputId": "22474a9b-ebb1-4be7-f89c-6ddde2b74c39"
      },
      "source": [
        "#klasyfikator spamu - nauka\n",
        "\n",
        "import numpy as np\n",
        "import pandas as pd\n",
        "import matplotlib.pyplot as plt\n",
        "import seaborn as sns\n",
        "%matplotlib inline\n",
        "import warnings\n",
        "warnings.filterwarnings(\"ignore\")\n",
        "import pickle\n",
        "import tensorflow as tf\n",
        "import wordcloud\n",
        "\n",
        "plik = pd.read_csv(\"spam.csv\",encoding='latin-1')\n",
        "plik.head()\n",
        "\n",
        "data = plik.copy()\n",
        "data.drop(columns=[\"Unnamed: 2\", \"Unnamed: 3\", \"Unnamed: 4\"], inplace=True)\n",
        "\n",
        "# zmiana nazwy kolumn\n",
        "data = data.rename(columns={\"v1\":\"label\", \"v2\":\"text\"})\n",
        "data.head()\n",
        "\n",
        "# zliczanie klasy\n",
        "class_count_0, class_count_1 = data.label.value_counts()\n",
        "\n",
        "# podzielenie na spam i ham\n",
        "class_0 = data[data['label'] == 'ham']\n",
        "class_1 = data[data['label'] == 'spam']\n",
        "\n",
        "print('class 0:', class_0.shape)\n",
        "print('class 1:', class_1.shape, \"\\n\")\n",
        "\n",
        "#/////////////////////////\n",
        "\n",
        "# random undersampling\n",
        "class_0_under = class_0.sample(class_count_1)\n",
        "test_under = pd.concat([class_0_under, class_1], axis=0)\n",
        "print(test_under['label'].value_counts(), \"\\n\")\n",
        "\n",
        "# wykres\n",
        "test_under['label'].value_counts().plot(kind='bar')\n",
        "plt.show()\n",
        "\n",
        "#/////////////////////////\n",
        "\n",
        "# random oversampling\n",
        "class_1_over = class_1.sample(class_count_0, replace=True)\n",
        "test_over = pd.concat([class_1_over, class_0], axis=0)\n",
        "print(test_over['label'].value_counts(), \"\\n\")\n",
        "\n",
        "# wykres\n",
        "test_over['label'].value_counts().plot(kind='bar')\n",
        "plt.show()"
      ],
      "execution_count": 53,
      "outputs": [
        {
          "output_type": "stream",
          "text": [
            "class 0: (4825, 2)\n",
            "class 1: (747, 2) \n",
            "\n",
            "spam    747\n",
            "ham     747\n",
            "Name: label, dtype: int64 \n",
            "\n"
          ],
          "name": "stdout"
        },
        {
          "output_type": "display_data",
          "data": {
            "image/png": "[encoded data removed]",
            "text/plain": [
              "<Figure size 432x288 with 1 Axes>"
            ]
          },
          "metadata": {
            "tags": [],
            "needs_background": "light"
          }
        },
        {
          "output_type": "stream",
          "text": [
            "spam    4825\n",
            "ham     4825\n",
            "Name: label, dtype: int64 \n",
            "\n"
          ],
          "name": "stdout"
        },
        {
          "output_type": "display_data",
          "data": {
            "image/png": "[encoded data removed]",
            "text/plain": [
              "<Figure size 432x288 with 1 Axes>"
            ]
          },
          "metadata": {
            "tags": [],
            "needs_background": "light"
          }
        }
      ]
    },
    {
      "cell_type": "code",
      "metadata": {
        "colab": {
          "base_uri": "https://localhost:8080/"
        },
        "id": "Idhvo4bbzykt",
        "outputId": "e37caaff-4d22-43ea-d3ce-01123c438282"
      },
      "source": [
        "# wstępne przetwarzanie tekstu\n",
        "from tensorflow.keras.preprocessing.sequence import pad_sequences\n",
        "from tensorflow.keras.preprocessing.text import Tokenizer\n",
        "\n",
        "# budowanie modelu\n",
        "from tensorflow.keras.models import Sequential\n",
        "from tensorflow.keras.layers import Dense\n",
        "from tensorflow.keras.layers import Flatten\n",
        "from tensorflow.keras.layers import Dropout\n",
        "from tensorflow.keras.layers import Embedding\n",
        "from tensorflow.keras.callbacks import EarlyStopping\n",
        "\n",
        "# dzielenie danych na train and test set\n",
        "from sklearn.model_selection import train_test_split\n",
        "\n",
        "x = data['text'].values\n",
        "y = data['label'].values\n",
        "x_train, x_test, y_train, y_test = train_test_split(x, y,\n",
        "                                                        test_size=0.30)\n",
        "\n",
        "# prepare tokenizer\n",
        "t = Tokenizer()\n",
        "t.fit_on_texts(x_train)\n",
        "\n",
        "# kodowanie\n",
        "encoded_train = t.texts_to_sequences(x_train)\n",
        "encoded_test = t.texts_to_sequences(x_test)\n",
        "print(encoded_train[0:2], \"\\n\")\n",
        "\n",
        "# maksymalna długość słów \n",
        "max_length = 8\n",
        "padded_train = pad_sequences(encoded_train, maxlen=max_length, padding='post')\n",
        "padded_test = pad_sequences(encoded_test, maxlen=max_length, padding='post')\n",
        "print(padded_train, \"\\n\")\n",
        "\n",
        "vocab_size = len(t.word_index) + 1\n",
        "\n",
        "# zdefiniowanie modelu\n",
        "model = Sequential()\n",
        "model.add(Embedding(vocab_size, 24, input_length=max_length))\n",
        "model.add(Flatten())\n",
        "model.add(Dense(500, activation='relu'))\n",
        "model.add(Dense(200, activation='relu'))\n",
        "model.add(Dropout(0.5))\n",
        "model.add(Dense(100, activation='relu'))\n",
        "model.add(Dense(1, activation='sigmoid'))\n",
        "\n",
        "# kompilacja modelu\n",
        "model.compile(optimizer='rmsprop', loss='binary_crossentropy', metrics=['accuracy'])\n",
        "\n",
        "# podsumowanie modelu\n",
        "print(model.summary())\n",
        "\n",
        "early_stop = EarlyStopping(monitor='val_loss', mode='min', verbose=1, patience=10)\n",
        "\n",
        "# dopasowanie modelu\n",
        "model.fit(x=padded_train,\n",
        "         y=y_train,\n",
        "         epochs=10,\n",
        "         validation_data=(padded_test, y_test), verbose=1,\n",
        "         callbacks=[early_stop]\n",
        "         )"
      ],
      "execution_count": 15,
      "outputs": [
        {
          "output_type": "stream",
          "text": [
            "[[635, 861, 1007, 1854, 701, 1855, 95, 224, 862, 1182, 47, 258, 8, 7, 16, 24, 16, 862, 154, 1183, 47, 258, 863, 16, 702], [100, 1, 30, 36, 225, 331, 161, 3, 25, 2816]] \n",
            "\n",
            "[[ 862  154 1183 ...  863   16  702]\n",
            " [  30   36  225 ...    3   25 2816]\n",
            " [ 782   22   16 ...  511 2817   73]\n",
            " ...\n",
            " [6241   29 6242 ...  224   29 6243]\n",
            " [ 648 1756 1376 ...    0    0    0]\n",
            " [   7  144   19 ...    7  243  190]] \n",
            "\n",
            "Model: \"sequential\"\n",
            "_________________________________________________________________\n",
            "Layer (type)                 Output Shape              Param #   \n",
            "=================================================================\n",
            "embedding (Embedding)        (None, 8, 24)             149856    \n",
            "_________________________________________________________________\n",
            "flatten (Flatten)            (None, 192)               0         \n",
            "_________________________________________________________________\n",
            "dense (Dense)                (None, 500)               96500     \n",
            "_________________________________________________________________\n",
            "dense_1 (Dense)              (None, 200)               100200    \n",
            "_________________________________________________________________\n",
            "dropout (Dropout)            (None, 200)               0         \n",
            "_________________________________________________________________\n",
            "dense_2 (Dense)              (None, 100)               20100     \n",
            "_________________________________________________________________\n",
            "dense_3 (Dense)              (None, 1)                 101       \n",
            "=================================================================\n",
            "Total params: 366,757\n",
            "Trainable params: 366,757\n",
            "Non-trainable params: 0\n",
            "_________________________________________________________________\n",
            "None\n",
            "Epoch 1/10\n",
            "88/88 [==============================] - 2s 10ms/step - loss: 0.2291 - accuracy: 0.9045 - val_loss: 0.1385 - val_accuracy: 0.9702\n",
            "Epoch 2/10\n",
            "88/88 [==============================] - 1s 8ms/step - loss: 0.0465 - accuracy: 0.9864 - val_loss: 0.1396 - val_accuracy: 0.9738\n",
            "Epoch 3/10\n",
            "88/88 [==============================] - 1s 8ms/step - loss: 0.0114 - accuracy: 0.9961 - val_loss: 0.2156 - val_accuracy: 0.9738\n",
            "Epoch 4/10\n",
            "88/88 [==============================] - 1s 7ms/step - loss: 5.5116e-04 - accuracy: 0.9996 - val_loss: 0.2734 - val_accuracy: 0.9760\n",
            "Epoch 5/10\n",
            "88/88 [==============================] - 1s 7ms/step - loss: 4.9142e-06 - accuracy: 1.0000 - val_loss: 0.3446 - val_accuracy: 0.9760\n",
            "Epoch 6/10\n",
            "88/88 [==============================] - 1s 8ms/step - loss: 1.2860e-07 - accuracy: 1.0000 - val_loss: 0.3819 - val_accuracy: 0.9742\n",
            "Epoch 7/10\n",
            "88/88 [==============================] - 1s 8ms/step - loss: 2.0702e-08 - accuracy: 1.0000 - val_loss: 0.4195 - val_accuracy: 0.9745\n",
            "Epoch 8/10\n",
            "88/88 [==============================] - 1s 8ms/step - loss: 4.9981e-09 - accuracy: 1.0000 - val_loss: 0.4335 - val_accuracy: 0.9749\n",
            "Epoch 9/10\n",
            "88/88 [==============================] - 1s 8ms/step - loss: 9.6775e-10 - accuracy: 1.0000 - val_loss: 0.4376 - val_accuracy: 0.9752\n",
            "Epoch 10/10\n",
            "88/88 [==============================] - 1s 8ms/step - loss: 1.7835e-09 - accuracy: 1.0000 - val_loss: 0.4412 - val_accuracy: 0.9752\n"
          ],
          "name": "stdout"
        },
        {
          "output_type": "execute_result",
          "data": {
            "text/plain": [
              "<tensorflow.python.keras.callbacks.History at 0x7fba79b7d890>"
            ]
          },
          "metadata": {
            "tags": []
          },
          "execution_count": 15
        }
      ]
    },
    {
      "cell_type": "code",
      "metadata": {
        "colab": {
          "base_uri": "https://localhost:8080/",
          "height": 349
        },
        "id": "ovt-7RXh5-Hq",
        "outputId": "95ac535a-551f-4c4a-f4e0-03c184b50d6e"
      },
      "source": [
        "from sklearn.metrics import classification_report, confusion_matrix, accuracy_score\n",
        "from tensorflow.keras.preprocessing.text import Tokenizer\n",
        "\n",
        "#predykcja\n",
        "preds = (model.predict(padded_test) > 0.5).astype(\"int32\")\n",
        "\n",
        "#tablica pomyłek\n",
        "plot_confusion_matrix(y_test, preds)\n",
        "\n",
        "sms = [\"We know someone who you know that fancies you. Call 09058097218 to find out who. POBox 6, LS15HB \"]\n",
        "sms1 = [\"Even my brother is not like to speak with me. They treat me like aids patent.\"]\n",
        "sms_proc = tokenizer.texts_to_sequences(sms1)\n",
        "sms_proc = pad_sequences(sms_proc, maxlen=max_length, padding='post')\n",
        "pred = (model.predict(sms_proc) > 0.5).astype(\"int32\").item()\n",
        "print(\"1 = SPAM , 0 = HAM \\n\")\n",
        "print(\"Wynik :\", pred, \"\\n\")"
      ],
      "execution_count": null,
      "outputs": [
        {
          "output_type": "stream",
          "text": [
            "1 = SPAM , 0 = HAM \n",
            "\n",
            "Wynik : 0 \n",
            "\n"
          ],
          "name": "stdout"
        },
        {
          "output_type": "display_data",
          "data": {
            "image/png": "[encoded data removed]",
            "text/plain": [
              "<Figure size 432x288 with 1 Axes>"
            ]
          },
          "metadata": {
            "tags": [],
            "needs_background": "light"
          }
        }
      ]
    }
  ]
}