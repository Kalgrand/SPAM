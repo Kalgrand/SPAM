{
  "nbformat": 4,
  "nbformat_minor": 0,
  "metadata": {
    "colab": {
      "name": "spam_classifier.ipynb",
      "provenance": [],
      "collapsed_sections": [],
      "toc_visible": true,
      "authorship_tag": "ABX9TyMBvTOfRQ+M1uO+WJJ0emOy",
      "include_colab_link": true
    },
    "kernelspec": {
      "name": "python3",
      "display_name": "Python 3"
    },
    "language_info": {
      "name": "python"
    }
  },
  "cells": [
    {
      "cell_type": "markdown",
      "metadata": {
        "id": "view-in-github",
        "colab_type": "text"
      },
      "source": [
        "<a href=\"https://colab.research.google.com/github/Kalgrand/SPAM/blob/main/spam_classifier.ipynb\" target=\"_parent\"><img src=\"https://colab.research.google.com/assets/colab-badge.svg\" alt=\"Open In Colab\"/></a>"
      ]
    },
    {
      "cell_type": "code",
      "metadata": {
        "id": "1D5pcQKMfLIr",
        "colab": {
          "base_uri": "https://localhost:8080/",
          "height": 280
        },
        "outputId": "c43f6628-769b-4a41-aaed-802e089d0a25"
      },
      "source": [
        "#klasyfikator spamu - nauka\n",
        "\n",
        "import numpy as np\n",
        "import pandas as pd\n",
        "import matplotlib.pyplot as plt\n",
        "import seaborn as sns\n",
        "%matplotlib inline\n",
        "import warnings\n",
        "warnings.filterwarnings(\"ignore\")\n",
        "import pickle\n",
        "import tensorflow as tf\n",
        "import wordcloud\n",
        "\n",
        "plik = pd.read_csv(\"spam.csv\",encoding='latin-1')\n",
        "plik.head()\n",
        "\n",
        "data = plik.copy()\n",
        "data.drop(columns=[\"Unnamed: 2\", \"Unnamed: 3\", \"Unnamed: 4\"], inplace=True)\n",
        "\n",
        "#zmiana nazwy kolumn\n",
        "data = data.rename(columns={\"v1\":\"label\", \"v2\":\"text\"})\n",
        "data.head()\n",
        "data.label.value_counts()\n",
        "\n",
        "#wizualizacja danych\n",
        "sns.countplot(data['label'])\n",
        "plt.show\n",
        "\n",
        "data['label'] = data['label'].map({'spam':1, 'ham':0})\n"
      ],
      "execution_count": 20,
      "outputs": [
        {
          "output_type": "display_data",
          "data": {
            "image/png": "[encoded data removed]",
            "text/plain": [
              "<Figure size 432x288 with 1 Axes>"
            ]
          },
          "metadata": {
            "tags": [],
            "needs_background": "light"
          }
        }
      ]
    },
    {
      "cell_type": "code",
      "metadata": {
        "colab": {
          "base_uri": "https://localhost:8080/"
        },
        "id": "Idhvo4bbzykt",
        "outputId": "2006e5d0-70d6-47e6-9e84-01d08bd50139"
      },
      "source": [
        "# wstępne przetwarzanie tekstu\n",
        "from tensorflow.keras.preprocessing.sequence import pad_sequences\n",
        "from tensorflow.keras.preprocessing.text import Tokenizer\n",
        "\n",
        "# budowanie modelu\n",
        "from tensorflow.keras.models import Sequential\n",
        "from tensorflow.keras.layers import Dense\n",
        "from tensorflow.keras.layers import Flatten\n",
        "from tensorflow.keras.layers import Dropout\n",
        "from tensorflow.keras.layers import Embedding\n",
        "from tensorflow.keras.callbacks import EarlyStopping\n",
        "\n",
        "# dzielenie danych na train and test set\n",
        "from sklearn.model_selection import train_test_split\n",
        "\n",
        "x = data['text'].values\n",
        "y = data['label'].values\n",
        "x_train, x_test, y_train, y_test = train_test_split(x, y,\n",
        "                                                        test_size=0.30, \n",
        "                                                        random_state=42)\n",
        "\n",
        "# prepare tokenizer\n",
        "t = Tokenizer()\n",
        "t.fit_on_texts(x_train)\n",
        "\n",
        "# kodowanie\n",
        "encoded_train = t.texts_to_sequences(x_train)\n",
        "encoded_test = t.texts_to_sequences(x_test)\n",
        "print(encoded_train[0:2], \"\\n\")\n",
        "\n",
        "# maksymalna długość słów \n",
        "max_length = 8\n",
        "padded_train = pad_sequences(encoded_train, maxlen=max_length, padding='post')\n",
        "padded_test = pad_sequences(encoded_test, maxlen=max_length, padding='post')\n",
        "print(padded_train, \"\\n\")\n",
        "\n",
        "vocab_size = len(t.word_index) + 1\n",
        "\n",
        "# zdefiniowanie modelu\n",
        "model = Sequential()\n",
        "model.add(Embedding(vocab_size, 24, input_length=max_length))\n",
        "model.add(Flatten())\n",
        "model.add(Dense(500, activation='relu'))\n",
        "model.add(Dense(200, activation='relu'))\n",
        "model.add(Dropout(0.5))\n",
        "model.add(Dense(100, activation='relu'))\n",
        "model.add(Dense(1, activation='sigmoid'))\n",
        "\n",
        "# kompilacja modelu\n",
        "model.compile(optimizer='rmsprop', loss='binary_crossentropy', metrics=['accuracy'])\n",
        "\n",
        "# podsumowanie modelu\n",
        "print(model.summary())\n",
        "\n",
        "early_stop = EarlyStopping(monitor='val_loss', mode='min', verbose=1, patience=10)\n",
        "\n",
        "# dopasowanie modelu\n",
        "model.fit(x=padded_train,\n",
        "         y=y_train,\n",
        "         epochs=10,\n",
        "         validation_data=(padded_test, y_test), verbose=1,\n",
        "         callbacks=[early_stop]\n",
        "         )"
      ],
      "execution_count": 72,
      "outputs": [
        {
          "output_type": "stream",
          "text": [
            "[[2, 1519, 7, 203, 5, 921, 188, 93, 3460, 599, 3461, 38, 730, 188, 48, 19, 131, 3462, 182, 3463, 679, 49, 3464, 88, 38, 5, 329, 54], [33, 58, 1520, 256, 209, 48, 785]] \n",
            "\n",
            "[[ 679   49 3464 ...    5  329   54]\n",
            " [  33   58 1520 ...   48  785    0]\n",
            " [   3   29  105 ...   13  146  231]\n",
            " ...\n",
            " [2000   30 7412 ...  254   30 7413]\n",
            " [ 739 2270 1432 ...    0    0    0]\n",
            " [   8  146   20 ...    8  276  175]] \n",
            "\n",
            "Model: \"sequential_9\"\n",
            "_________________________________________________________________\n",
            "Layer (type)                 Output Shape              Param #   \n",
            "=================================================================\n",
            "embedding_9 (Embedding)      (None, 8, 24)             177936    \n",
            "_________________________________________________________________\n",
            "flatten_9 (Flatten)          (None, 192)               0         \n",
            "_________________________________________________________________\n",
            "dense_36 (Dense)             (None, 500)               96500     \n",
            "_________________________________________________________________\n",
            "dense_37 (Dense)             (None, 200)               100200    \n",
            "_________________________________________________________________\n",
            "dropout_9 (Dropout)          (None, 200)               0         \n",
            "_________________________________________________________________\n",
            "dense_38 (Dense)             (None, 100)               20100     \n",
            "_________________________________________________________________\n",
            "dense_39 (Dense)             (None, 1)                 101       \n",
            "=================================================================\n",
            "Total params: 394,837\n",
            "Trainable params: 394,837\n",
            "Non-trainable params: 0\n",
            "_________________________________________________________________\n",
            "None\n",
            "Epoch 1/10\n",
            "122/122 [==============================] - 2s 7ms/step - loss: 0.3082 - accuracy: 0.8681 - val_loss: 0.1039 - val_accuracy: 0.9767\n",
            "Epoch 2/10\n",
            "122/122 [==============================] - 1s 6ms/step - loss: 0.0455 - accuracy: 0.9868 - val_loss: 0.0899 - val_accuracy: 0.9791\n",
            "Epoch 3/10\n",
            "122/122 [==============================] - 1s 5ms/step - loss: 0.0138 - accuracy: 0.9970 - val_loss: 0.1474 - val_accuracy: 0.9785\n",
            "Epoch 4/10\n",
            "122/122 [==============================] - 1s 6ms/step - loss: 3.3382e-04 - accuracy: 1.0000 - val_loss: 0.2441 - val_accuracy: 0.9803\n",
            "Epoch 5/10\n",
            "122/122 [==============================] - 1s 5ms/step - loss: 1.7913e-06 - accuracy: 1.0000 - val_loss: 0.2811 - val_accuracy: 0.9809\n",
            "Epoch 6/10\n",
            "122/122 [==============================] - 1s 6ms/step - loss: 3.4269e-08 - accuracy: 1.0000 - val_loss: 0.3044 - val_accuracy: 0.9821\n",
            "Epoch 7/10\n",
            "122/122 [==============================] - 1s 5ms/step - loss: 7.5684e-09 - accuracy: 1.0000 - val_loss: 0.3098 - val_accuracy: 0.9827\n",
            "Epoch 8/10\n",
            "122/122 [==============================] - 1s 5ms/step - loss: 2.8523e-09 - accuracy: 1.0000 - val_loss: 0.3483 - val_accuracy: 0.9809\n",
            "Epoch 9/10\n",
            "122/122 [==============================] - 1s 6ms/step - loss: 1.8437e-09 - accuracy: 1.0000 - val_loss: 0.3526 - val_accuracy: 0.9803\n",
            "Epoch 10/10\n",
            "122/122 [==============================] - 1s 6ms/step - loss: 5.8628e-10 - accuracy: 1.0000 - val_loss: 0.3528 - val_accuracy: 0.9803\n"
          ],
          "name": "stdout"
        },
        {
          "output_type": "execute_result",
          "data": {
            "text/plain": [
              "<tensorflow.python.keras.callbacks.History at 0x7fd8fbe63390>"
            ]
          },
          "metadata": {
            "tags": []
          },
          "execution_count": 72
        }
      ]
    },
    {
      "cell_type": "code",
      "metadata": {
        "colab": {
          "base_uri": "https://localhost:8080/",
          "height": 349
        },
        "id": "ovt-7RXh5-Hq",
        "outputId": "95ac535a-551f-4c4a-f4e0-03c184b50d6e"
      },
      "source": [
        "from sklearn.metrics import classification_report, confusion_matrix, accuracy_score\n",
        "from tensorflow.keras.preprocessing.text import Tokenizer\n",
        "\n",
        "#predykcja\n",
        "preds = (model.predict(padded_test) > 0.5).astype(\"int32\")\n",
        "\n",
        "#tablica pomyłek\n",
        "plot_confusion_matrix(y_test, preds)\n",
        "\n",
        "sms = [\"We know someone who you know that fancies you. Call 09058097218 to find out who. POBox 6, LS15HB \"]\n",
        "sms1 = [\"Even my brother is not like to speak with me. They treat me like aids patent.\"]\n",
        "sms_proc = tokenizer.texts_to_sequences(sms1)\n",
        "sms_proc = pad_sequences(sms_proc, maxlen=max_length, padding='post')\n",
        "pred = (model.predict(sms_proc) > 0.5).astype(\"int32\").item()\n",
        "print(\"1 = SPAM , 0 = HAM \\n\")\n",
        "print(\"Wynik :\", pred, \"\\n\")"
      ],
      "execution_count": 74,
      "outputs": [
        {
          "output_type": "stream",
          "text": [
            "1 = SPAM , 0 = HAM \n",
            "\n",
            "Wynik : 0 \n",
            "\n"
          ],
          "name": "stdout"
        },
        {
          "output_type": "display_data",
          "data": {
            "image/png": "[encoded data removed]",
            "text/plain": [
              "<Figure size 432x288 with 1 Axes>"
            ]
          },
          "metadata": {
            "tags": [],
            "needs_background": "light"
          }
        }
      ]
    }
  ]
}